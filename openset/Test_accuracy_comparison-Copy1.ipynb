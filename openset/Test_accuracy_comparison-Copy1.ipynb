{
 "cells": [
  {
   "cell_type": "code",
   "execution_count": 2,
   "id": "356987ad-b6cd-4dc8-95ad-d65e42757a65",
   "metadata": {},
   "outputs": [],
   "source": [
    "import os\n",
    "from pathlib import Path\n",
    "import pandas as pd\n",
    "import matplotlib.pyplot as plt\n",
    "import seaborn as sns\n",
    "import numpy as np\n",
    "from sklearn.model_selection import train_test_split\n",
    "from sklearn.preprocessing import OneHotEncoder\n",
    "from sklearn.metrics import classification_report, confusion_matrix\n",
    "from sklearn.utils import resample\n",
    "import tensorflow as tf\n",
    "from tensorflow.keras import layers, models\n",
    "from tensorflow.keras.preprocessing.image import ImageDataGenerator\n",
    "from tensorflow.keras.preprocessing.image import load_img, img_to_array\n",
    "from tensorflow.keras.models import Sequential\n",
    "from tensorflow.keras.layers import Conv2D, MaxPooling2D, Flatten, Dense, Dropout, BatchNormalization\n",
    "from tensorflow.keras.datasets import cifar10\n",
    "from collections import Counter\n",
    "from tensorflow.keras.regularizers import l2\n",
    "from tensorflow.keras.optimizers import Adam\n",
    "from tensorflow.keras.callbacks import ReduceLROnPlateau, EarlyStopping"
   ]
  },
  {
   "cell_type": "markdown",
   "id": "a1fe3e65-8e2e-49e4-81c3-09be2de3fc00",
   "metadata": {},
   "source": [
    "### Reproducibility"
   ]
  },
  {
   "cell_type": "code",
   "execution_count": 3,
   "id": "89853b71-ee21-4358-ac38-c842eadbd0fb",
   "metadata": {},
   "outputs": [],
   "source": [
    "SEED = 22\n",
    "np.random.seed(SEED)\n",
    "tf.random.set_seed(SEED)"
   ]
  },
  {
   "cell_type": "markdown",
   "id": "49a10ba2-2a99-47c9-aee0-2f52c7510394",
   "metadata": {},
   "source": [
    "### Set class number to train for"
   ]
  },
  {
   "cell_type": "code",
   "execution_count": 4,
   "id": "f093cc5a-e0c9-476d-85d5-34f1e790462a",
   "metadata": {},
   "outputs": [],
   "source": [
    "KEEP_CLASS_NUMBER = 7"
   ]
  },
  {
   "cell_type": "markdown",
   "id": "541aaba9-8e4f-4bca-b6b1-bd267fcf79c3",
   "metadata": {},
   "source": [
    "### General functions"
   ]
  },
  {
   "cell_type": "code",
   "execution_count": 5,
   "id": "b871aa60-cfc9-41aa-942d-d0c1c8e22f55",
   "metadata": {},
   "outputs": [],
   "source": [
    "def get_class_summary(y):\n",
    "    y_flat = y.flatten() \n",
    "    counter = Counter(y_flat)\n",
    "    return counter"
   ]
  },
  {
   "cell_type": "code",
   "execution_count": 6,
   "id": "04008094-f9f7-4a2b-b6ba-4fd147fe6b9b",
   "metadata": {},
   "outputs": [],
   "source": [
    "def plot_distribution(class_counts):\n",
    "    labels, counts = zip(*sorted(class_counts.items()))\n",
    "    label_names = [class_names[label] for label in labels]\n",
    "    \n",
    "    plt.figure(figsize=(10, 5))\n",
    "    sns.barplot(x=label_names, y=counts)\n",
    "    plt.title('Distribution of classes')\n",
    "    plt.xlabel('Classes')\n",
    "    plt.ylabel('Number of Images')\n",
    "    plt.xticks(rotation=90)\n",
    "    plt.tight_layout()\n",
    "    plt.show()"
   ]
  },
  {
   "cell_type": "code",
   "execution_count": 7,
   "id": "cc5f3e5e-c026-40a0-a71f-3e51098694e9",
   "metadata": {},
   "outputs": [],
   "source": [
    "def show_image_grid(X, y, rows, cols, figsize):\n",
    "    # Create a new figure\n",
    "    plt.figure(figsize=figsize)\n",
    "  \n",
    "    for i in range(rows*cols):\n",
    "        plt.subplot(rows, cols, i+1)\n",
    "        plt.xticks([])\n",
    "        plt.yticks([])\n",
    "        plt.grid(False)\n",
    "        plt.imshow(X[i])\n",
    "        plt.title(class_names[y[i][0]])\n",
    "    \n",
    "    plt.show()"
   ]
  },
  {
   "cell_type": "markdown",
   "id": "48ba6ddc-c307-4d99-8590-ba5ef7283c15",
   "metadata": {},
   "source": [
    "#### CNN structure"
   ]
  },
  {
   "cell_type": "code",
   "execution_count": 8,
   "id": "14977420-c474-464b-afb9-87540bcd80e2",
   "metadata": {},
   "outputs": [],
   "source": [
    "def build_simple_cnn(input_shape=(32, 32, 3), num_classes=KEEP_CLASS_NUMBER):\n",
    "    inputs = tf.keras.layers.Input(shape=input_shape)\n",
    "\n",
    "    # CNN Block 1\n",
    "    x = tf.keras.layers.Conv2D(16, (3, 3), activation='relu', padding='same')(inputs)\n",
    "    x = tf.keras.layers.BatchNormalization()(x)\n",
    "    x = tf.keras.layers.Conv2D(16, (3, 3), activation='relu', padding='same')(x)\n",
    "    x = tf.keras.layers.BatchNormalization()(x)\n",
    "    x = tf.keras.layers.AveragePooling2D((2, 2))(x)\n",
    "    x = tf.keras.layers.Dropout(0.25)(x)\n",
    "\n",
    "    # CNN Block 2\n",
    "    x = tf.keras.layers.Conv2D(32, (3, 3), activation='relu', padding='same')(x)\n",
    "    x = tf.keras.layers.BatchNormalization()(x)\n",
    "    x = tf.keras.layers.Conv2D(32, (3, 3), activation='relu', padding='same')(x)\n",
    "    x = tf.keras.layers.BatchNormalization()(x)\n",
    "    x = tf.keras.layers.AveragePooling2D((2, 2))(x)\n",
    "    x = tf.keras.layers.Dropout(0.25)(x)\n",
    "\n",
    "    # CNN Block 3\n",
    "    x = tf.keras.layers.Conv2D(64, (3, 3), activation='relu', padding='same')(x)\n",
    "    x = tf.keras.layers.BatchNormalization()(x)\n",
    "    x = tf.keras.layers.Conv2D(64, (3, 3), activation='relu', padding='same')(x)\n",
    "    x = tf.keras.layers.BatchNormalization()(x)\n",
    "    x = tf.keras.layers.AveragePooling2D((2, 2))(x)\n",
    "    x = tf.keras.layers.Dropout(0.25)(x)\n",
    "\n",
    "    cnn_output = tf.keras.layers.Flatten(name='cnn_output')(x)\n",
    "\n",
    "    # Dense layers\n",
    "    dense_1 = tf.keras.layers.Dense(128, activation='relu', name='dense_1')(cnn_output)\n",
    "    dropout_1 = tf.keras.layers.Dropout(0.5)(dense_1)\n",
    "\n",
    "    # Final layer (logits before softmax)\n",
    "    logits = Dense(num_classes, name='logits')(dropout_1)\n",
    "    outputs = tf.keras.layers.Softmax(name='softmax')(logits)\n",
    "\n",
    "    model = tf.keras.Model(inputs=inputs, outputs=outputs)\n",
    "\n",
    "    return model"
   ]
  },
  {
   "cell_type": "markdown",
   "id": "6fe3a6fe-18b4-4f59-a87c-be65b724b3a3",
   "metadata": {},
   "source": [
    "#### Isolation forest"
   ]
  },
  {
   "cell_type": "code",
   "execution_count": 9,
   "id": "240aaabf-c506-45fe-b99e-273478da63b7",
   "metadata": {},
   "outputs": [],
   "source": [
    "from sklearn.ensemble import IsolationForest\n",
    "\n",
    "def fit_iso_forest(n_estimators, contamination, train_features, test_features, random_state=SEED):\n",
    "    # Initialize the model\n",
    "    iso_forest = IsolationForest(\n",
    "        n_estimators=n_estimators,\n",
    "        contamination=contamination,\n",
    "        random_state=random_state\n",
    "    )\n",
    "    \n",
    "    # Fit the model\n",
    "    iso_forest.fit(train_features)\n",
    "    \n",
    "    # Predict anomalies (-1 = outlier, 1 = inlier)\n",
    "    predictions = iso_forest.predict(test_features)\n",
    "    \n",
    "    # Get anomaly scores (the lower, the more anomalous)\n",
    "    anomaly_scores = iso_forest.decision_function(test_features)\n",
    "\n",
    "    return anomaly_scores, predictions"
   ]
  },
  {
   "cell_type": "code",
   "execution_count": 10,
   "id": "0a1da480-c7d8-44c9-9412-f1fa1ee78adb",
   "metadata": {},
   "outputs": [],
   "source": [
    "def show_anomaly_score_plot(anomaly_scores, save_path=None):\n",
    "    plt.hist(anomaly_scores, bins=50)\n",
    "    plt.title(\"Anomaly Score Distribution\")\n",
    "    plt.xlabel(\"Score\")\n",
    "    plt.ylabel(\"Frequency\")\n",
    "    if save_path:\n",
    "        plt.savefig(save_path, dpi=300, bbox_inches='tight')\n",
    "        print(f\"Confusion matrix saved to {save_path}\")\n",
    "    plt.show()"
   ]
  },
  {
   "cell_type": "code",
   "execution_count": 11,
   "id": "762396be-04d6-447d-a535-3961cdedffc0",
   "metadata": {},
   "outputs": [],
   "source": [
    "from sklearn.metrics import accuracy_score, classification_report, confusion_matrix\n",
    "def print_evaluation_report(y_true, y_pred, target_names=['Unknown (OOD)', 'Known'], labels=[-1, 1]):\n",
    "    # Accuracy\n",
    "    accuracy = accuracy_score(y_true, y_pred)\n",
    "    print(f\"Accuracy: {accuracy*100:.2f}%\")\n",
    "\n",
    "    print(classification_report(y_true, y_pred, target_names=target_names))\n",
    "    cm = confusion_matrix(y_true, y_pred, labels=labels)\n",
    "    sns.heatmap(cm, annot=True, fmt=\"d\", cmap=\"Blues\", xticklabels=target_names, yticklabels=target_names)\n",
    "    plt.title(\"Confusion Matrix\")\n",
    "    plt.xlabel(\"Predicted\")\n",
    "    plt.ylabel(\"True\")\n",
    "    plt.show()\n"
   ]
  },
  {
   "cell_type": "code",
   "execution_count": 12,
   "id": "145911c5-9f33-434a-a551-71ae061dbe82",
   "metadata": {},
   "outputs": [],
   "source": [
    "def correct_predictions_with_unknown(class_preds, predictions, fallback_class):\n",
    "    all_preds = np.argmax(class_preds, axis=-1)\n",
    "    y_pred = np.zeros(predictions.shape[0], dtype=int)\n",
    "    \n",
    "    mask = predictions != -1\n",
    "    y_pred[mask] = all_preds[mask]\n",
    "    y_pred[~mask] = fallback_class\n",
    "    \n",
    "    return y_pred"
   ]
  },
  {
   "cell_type": "markdown",
   "id": "a3ed76b1-cde8-4ad4-be21-e8707ea423ff",
   "metadata": {},
   "source": [
    "# Load dataset from library"
   ]
  },
  {
   "cell_type": "code",
   "execution_count": 13,
   "id": "5b1744a4-a773-46a8-8843-7d6fa9f830de",
   "metadata": {},
   "outputs": [],
   "source": [
    "(X_train, y_train), (X_test, y_test) = cifar10.load_data()"
   ]
  },
  {
   "cell_type": "code",
   "execution_count": 14,
   "id": "a5818bc8-e584-48d2-ab61-5e50e0a5966f",
   "metadata": {},
   "outputs": [
    {
     "name": "stdout",
     "output_type": "stream",
     "text": [
      "Train Images Shape:       (50000, 32, 32, 3)\n",
      "Train Labels Shape:       (50000, 1)\n",
      "\n",
      "Test Images Shape:        (10000, 32, 32, 3)\n",
      "Test Labels Shape:        (10000, 1)\n"
     ]
    }
   ],
   "source": [
    "print('Train Images Shape:      ', X_train.shape)\n",
    "print('Train Labels Shape:      ', y_train.shape)\n",
    "\n",
    "print('\\nTest Images Shape:       ', X_test.shape)\n",
    "print('Test Labels Shape:       ', y_test.shape)"
   ]
  },
  {
   "cell_type": "markdown",
   "id": "509679f9-20ff-4fed-b195-90bdec50b71f",
   "metadata": {},
   "source": [
    "## CIFAR-10 classes"
   ]
  },
  {
   "cell_type": "code",
   "execution_count": 15,
   "id": "345bd727-03b5-4b43-ba18-fd3440dc21bd",
   "metadata": {},
   "outputs": [],
   "source": [
    "original_class_names = ['airplane', 'automobile', 'bird', 'cat', 'deer', 'dog', 'frog', 'horse', 'ship', 'truck']\n",
    "class_names = ['bird', 'cat', 'deer', 'dog', 'frog', 'horse', 'ship', 'truck', 'automobile', 'airplane']"
   ]
  },
  {
   "cell_type": "code",
   "execution_count": 16,
   "id": "429a3346-3930-448d-aa76-9b62f0d8d7da",
   "metadata": {},
   "outputs": [],
   "source": [
    "CLASS_NUMBER = 10"
   ]
  },
  {
   "cell_type": "markdown",
   "id": "6182f6cc-b377-4a33-bcd9-135f54782c2a",
   "metadata": {},
   "source": [
    "## Remap labels for easier handling"
   ]
  },
  {
   "cell_type": "code",
   "execution_count": 17,
   "id": "cb82a8cc-9637-4202-9297-c467922a1eae",
   "metadata": {},
   "outputs": [],
   "source": [
    "label_mapping = {original_class_names.index(name): class_names.index(name) for name in original_class_names}"
   ]
  },
  {
   "cell_type": "code",
   "execution_count": 18,
   "id": "b34a1d98-e502-492e-b747-9a78fdfb342f",
   "metadata": {},
   "outputs": [],
   "source": [
    "y_train_mapped = np.vectorize(label_mapping.get)(y_train)\n",
    "y_test_mapped = np.vectorize(label_mapping.get)(y_test)"
   ]
  },
  {
   "cell_type": "markdown",
   "id": "6645f32f-9dcf-402b-8ccf-c120324522c3",
   "metadata": {},
   "source": [
    "# Exclude 3 classes from training\n",
    "Excluded class: airplane, automobile, truck (last in list)"
   ]
  },
  {
   "cell_type": "markdown",
   "id": "8e1a554b-a948-4f5d-b511-5d70e214a3b6",
   "metadata": {},
   "source": [
    "# Divide into trained and unknown classes"
   ]
  },
  {
   "cell_type": "code",
   "execution_count": 19,
   "id": "1810de96-d1c1-47a4-b3a0-8a6cfd52c8df",
   "metadata": {},
   "outputs": [],
   "source": [
    "keep_classes = list(range(KEEP_CLASS_NUMBER))\n",
    "other_classes = list(set(range(CLASS_NUMBER)) - set(range(KEEP_CLASS_NUMBER)))\n",
    "\n",
    "# Masks\n",
    "train_keep_mask = np.isin(y_train_mapped.flatten(), keep_classes)\n",
    "test_keep_mask = np.isin(y_test_mapped.flatten(), keep_classes)\n",
    "\n",
    "train_unknown_mask = np.isin(y_train_mapped.flatten(), other_classes)\n",
    "test_unknown_mask = np.isin(y_test_mapped.flatten(), other_classes)\n",
    "\n",
    "# Apply\n",
    "X_train_filtered = X_train[train_keep_mask]\n",
    "y_train_filtered = y_train_mapped[train_keep_mask]\n",
    "\n",
    "X_test_filtered = X_test[test_keep_mask]\n",
    "y_test_filtered = y_test_mapped[test_keep_mask]\n",
    "\n",
    "X_train_unknown = X_train[train_unknown_mask]\n",
    "y_train_unknown = y_train_mapped[train_unknown_mask]\n",
    "X_test_unknown = X_test[test_unknown_mask]\n",
    "y_test_unknown = y_test_mapped[test_unknown_mask]"
   ]
  },
  {
   "cell_type": "code",
   "execution_count": 20,
   "id": "9b82a2d2-1469-404c-8445-479ae8c30b18",
   "metadata": {},
   "outputs": [
    {
     "name": "stdout",
     "output_type": "stream",
     "text": [
      "Train labels and counts: Counter({4: 5000, 2: 5000, 0: 5000, 5: 5000, 6: 5000, 1: 5000, 3: 5000})\n",
      "Test labels and counts: Counter({1: 1000, 6: 1000, 4: 1000, 3: 1000, 5: 1000, 2: 1000, 0: 1000})\n",
      "Unknown train labels and counts: Counter({7: 5000, 8: 5000, 9: 5000})\n",
      "Unknown test labels and counts: Counter({9: 1000, 8: 1000, 7: 1000})\n"
     ]
    }
   ],
   "source": [
    "print(\"Train labels and counts:\", get_class_summary(y_train_filtered))\n",
    "print(\"Test labels and counts:\", get_class_summary(y_test_filtered))\n",
    "print(\"Unknown train labels and counts:\", get_class_summary(y_train_unknown))\n",
    "print(\"Unknown test labels and counts:\", get_class_summary(y_test_unknown))"
   ]
  },
  {
   "cell_type": "markdown",
   "id": "2eaca3da-f1ea-4780-8e0b-c8190a07110d",
   "metadata": {},
   "source": [
    "# Preprocess images"
   ]
  },
  {
   "cell_type": "markdown",
   "id": "e0a11b88-2b7f-4d20-b8db-7e304d6bb80e",
   "metadata": {},
   "source": [
    "## One-hot encoding of labels"
   ]
  },
  {
   "cell_type": "code",
   "execution_count": 21,
   "id": "5f59d265-057f-46d2-b6d6-149484aad14e",
   "metadata": {},
   "outputs": [],
   "source": [
    "enc = OneHotEncoder()\n",
    "y_train_enc=enc.fit_transform(y_train_filtered).toarray().astype(int)\n",
    "y_test_enc=enc.transform(y_test_filtered).toarray().astype(int)"
   ]
  },
  {
   "cell_type": "markdown",
   "id": "192757c1-33d4-46fa-a9b4-81ea6761189f",
   "metadata": {},
   "source": [
    "## Flow generation"
   ]
  },
  {
   "cell_type": "code",
   "execution_count": 22,
   "id": "15de00a5-d5ee-4fab-bc60-76bff3253a2b",
   "metadata": {},
   "outputs": [],
   "source": [
    "train_generator = tf.keras.preprocessing.image.ImageDataGenerator(\n",
    "    rescale=1./255,\n",
    "    rotation_range=10,\n",
    "    width_shift_range=0.05,\n",
    "    height_shift_range=0.05,\n",
    "    horizontal_flip=True,\n",
    "    validation_split=0.2\n",
    ")\n",
    "\n",
    "test_generator = tf.keras.preprocessing.image.ImageDataGenerator(\n",
    "    rescale=1./255\n",
    ")"
   ]
  },
  {
   "cell_type": "code",
   "execution_count": 23,
   "id": "4597d876-b701-4201-93ee-d98eff637573",
   "metadata": {},
   "outputs": [],
   "source": [
    "train_flow = train_generator.flow(\n",
    "    x=X_train_filtered,\n",
    "    y=y_train_enc,\n",
    "    batch_size=128,\n",
    "    shuffle=True,\n",
    "    seed=SEED,\n",
    "    subset='training'\n",
    ")\n",
    "\n",
    "val_flow = train_generator.flow(\n",
    "    x=X_train_filtered,\n",
    "    y=y_train_enc,\n",
    "    batch_size=128,\n",
    "    shuffle=True,\n",
    "    seed=SEED,\n",
    "    subset='validation'\n",
    ")\n",
    "\n",
    "test_flow = test_generator.flow(\n",
    "    x=X_test_filtered,\n",
    "    y=y_test_enc,\n",
    "    batch_size=128,\n",
    "    shuffle=False\n",
    ")"
   ]
  },
  {
   "cell_type": "markdown",
   "id": "d10f8ffb-1835-4dbe-b4a5-3f0d9d4637cd",
   "metadata": {},
   "source": [
    "# CNN for classification"
   ]
  },
  {
   "cell_type": "code",
   "execution_count": 24,
   "id": "afe28bc1-6c8d-45ce-90d1-ccd47ceb7317",
   "metadata": {},
   "outputs": [],
   "source": [
    "my_model = build_simple_cnn()"
   ]
  },
  {
   "cell_type": "markdown",
   "id": "c905190d-cb09-4bcf-829a-824f48a064fb",
   "metadata": {},
   "source": [
    "### Compile model"
   ]
  },
  {
   "cell_type": "code",
   "execution_count": 25,
   "id": "ff45651d-612b-4dc1-a5f9-c609f2bee2ba",
   "metadata": {},
   "outputs": [],
   "source": [
    "lr_schedule = tf.keras.optimizers.schedules.ExponentialDecay(\n",
    "    initial_learning_rate=1e-3,\n",
    "    decay_steps=10000,\n",
    "    decay_rate=0.9,\n",
    "    staircase=True)\n",
    "\n",
    "my_model.compile(optimizer=tf.keras.optimizers.Adam(learning_rate=lr_schedule), \n",
    "              loss='categorical_crossentropy', \n",
    "              metrics=['accuracy'])"
   ]
  },
  {
   "cell_type": "markdown",
   "id": "55b67bfd-1e17-4052-b1f5-20196e1bbb2b",
   "metadata": {},
   "source": [
    "### Load saved weights"
   ]
  },
  {
   "cell_type": "code",
   "execution_count": 26,
   "id": "eebb9872-75e6-4e6d-b301-e985bb4470d9",
   "metadata": {},
   "outputs": [],
   "source": [
    "my_model.load_weights('models/my_model_weights_7_class_v2.keras')"
   ]
  },
  {
   "cell_type": "markdown",
   "id": "276e055b-8009-438f-bf2f-e8a643dfca87",
   "metadata": {},
   "source": [
    "# Evaluate model on known test set"
   ]
  },
  {
   "cell_type": "code",
   "execution_count": 27,
   "id": "de0654c8-061f-4276-8c28-2cf795f0d9e6",
   "metadata": {},
   "outputs": [
    {
     "name": "stdout",
     "output_type": "stream",
     "text": [
      "55/55 [==============================] - 2s 24ms/step - loss: 0.6135 - accuracy: 0.8000\n",
      "Test accuracy: 80.00%, test loss: 0.6135\n"
     ]
    }
   ],
   "source": [
    "loss, accuracy = my_model.evaluate(test_flow, verbose=1)\n",
    "print(f\"Test accuracy: {accuracy*100:.2f}%, test loss: {loss:.4f}\")"
   ]
  },
  {
   "cell_type": "markdown",
   "id": "ce0744e7-b2f6-490b-ad76-2d40d9eb8e6f",
   "metadata": {},
   "source": [
    "# Extract intermediate models"
   ]
  },
  {
   "cell_type": "code",
   "execution_count": 28,
   "id": "83b80eb2-d96b-43de-aeb0-ec83287292f3",
   "metadata": {},
   "outputs": [],
   "source": [
    "# Model to get CNN output (flattened)\n",
    "cnn_output_model = tf.keras.Model(inputs=my_model.input, outputs=my_model.get_layer('cnn_output').output)\n",
    "\n",
    "# Model to get first Dense output\n",
    "dense_output_model = tf.keras.Model(inputs=my_model.input, outputs=my_model.get_layer('dense_1').output)\n",
    "\n",
    "# Model to get logits (before softmax)\n",
    "logits_model = tf.keras.Model(inputs=my_model.input, outputs=my_model.get_layer('logits').output)"
   ]
  },
  {
   "cell_type": "markdown",
   "id": "9a18dac8-3f8d-4fc3-9492-8b6b13ac1a08",
   "metadata": {},
   "source": [
    "# Construct training set for isolation forest\n",
    "Use the 7-class test set plus 10% contamination of randomly generated images"
   ]
  },
  {
   "cell_type": "code",
   "execution_count": 29,
   "id": "0a6ee514-2e8b-43a7-a53f-88cc36c74202",
   "metadata": {},
   "outputs": [
    {
     "data": {
      "text/plain": [
       "35000"
      ]
     },
     "execution_count": 29,
     "metadata": {},
     "output_type": "execute_result"
    }
   ],
   "source": [
    "X_train_filtered.shape[0]"
   ]
  },
  {
   "cell_type": "markdown",
   "id": "d2ef1569-b136-4309-9901-4523ffc3c809",
   "metadata": {},
   "source": [
    "## Reduce training set size to 20%, no need for all"
   ]
  },
  {
   "cell_type": "code",
   "execution_count": 30,
   "id": "453aee11-0247-49ba-bbba-bc4a0edaae8e",
   "metadata": {},
   "outputs": [],
   "source": [
    "n_samples = int(0.2 * len(X_train_filtered))\n",
    "indices = np.random.choice(len(X_train_filtered), size=n_samples, replace=False)\n",
    "\n",
    "X_subset = X_train_filtered[indices]\n",
    "y_subset = y_train_filtered[indices]"
   ]
  },
  {
   "cell_type": "markdown",
   "id": "5313225d-093d-4432-9c34-fb1e91c7d48d",
   "metadata": {},
   "source": [
    "## Generate artificial anomaly data"
   ]
  },
  {
   "cell_type": "code",
   "execution_count": 31,
   "id": "c485543b-3a4d-4e5c-aa8c-e0c258a8743a",
   "metadata": {},
   "outputs": [],
   "source": [
    "artificial_N = round(X_subset.shape[0] * 0.05)\n",
    "uniform_images = np.random.uniform(low=0.0, high=1.0, size=(artificial_N, 32, 32, 3)).astype(np.float32)\n",
    "normal_images = np.clip(np.random.normal(loc=0.5, scale=0.5, size=(artificial_N, 32, 32, 3)).astype(np.float32), 0.0, 1.0)\n",
    "contamination_images = np.concatenate((uniform_images, normal_images), axis=0)\n",
    "y_contamination = (KEEP_CLASS_NUMBER) * np.ones((artificial_N * 2, 1), dtype=np.int32)"
   ]
  },
  {
   "cell_type": "code",
   "execution_count": 32,
   "id": "c700f111-10a8-4ee8-bf0e-e76291ebc033",
   "metadata": {},
   "outputs": [
    {
     "data": {
      "text/plain": [
       "(700, 32, 32, 3)"
      ]
     },
     "execution_count": 32,
     "metadata": {},
     "output_type": "execute_result"
    }
   ],
   "source": [
    "contamination_images.shape"
   ]
  },
  {
   "cell_type": "markdown",
   "id": "e9095052-2609-4a21-bb77-525e9d9e6c61",
   "metadata": {},
   "source": [
    "## Create training set"
   ]
  },
  {
   "cell_type": "code",
   "execution_count": 33,
   "id": "9bd71696-f08a-4a8d-9342-b9151c664fc0",
   "metadata": {},
   "outputs": [],
   "source": [
    "X_train_iso =np.concatenate([X_subset, contamination_images], axis=0)\n",
    "y_train_iso = np.concatenate([y_subset, y_contamination], axis=0)"
   ]
  },
  {
   "cell_type": "code",
   "execution_count": 34,
   "id": "72656c6b-277f-495a-b1a1-303d85e4520c",
   "metadata": {},
   "outputs": [
    {
     "data": {
      "text/plain": [
       "((7700, 32, 32, 3), (7700, 1))"
      ]
     },
     "execution_count": 34,
     "metadata": {},
     "output_type": "execute_result"
    }
   ],
   "source": [
    "X_train_iso.shape, y_train_iso.shape"
   ]
  },
  {
   "cell_type": "markdown",
   "id": "ad1ff992-0323-4650-8831-8d99b273364f",
   "metadata": {},
   "source": [
    "### Flow without validation split and data augmentation"
   ]
  },
  {
   "cell_type": "code",
   "execution_count": 35,
   "id": "c3cb758e-5861-48f2-a22e-64a7f2978dca",
   "metadata": {},
   "outputs": [],
   "source": [
    "iso_train_flow = test_generator.flow(X_train_iso, y_train_iso, batch_size=128, shuffle=False, seed=SEED)"
   ]
  },
  {
   "cell_type": "markdown",
   "id": "49e281d2-19aa-448a-96dd-7575df7bd60f",
   "metadata": {},
   "source": [
    "# Construct mixed test set"
   ]
  },
  {
   "cell_type": "code",
   "execution_count": 36,
   "id": "44bae1e7-97bd-4595-9e03-3d25155a42c1",
   "metadata": {},
   "outputs": [
    {
     "data": {
      "text/plain": [
       "(10000, 8)"
      ]
     },
     "execution_count": 36,
     "metadata": {},
     "output_type": "execute_result"
    }
   ],
   "source": [
    "enc_full = OneHotEncoder()\n",
    "y_test_modified = np.where(y_test_mapped >= KEEP_CLASS_NUMBER, KEEP_CLASS_NUMBER, y_test_mapped)\n",
    "y_full_test_enc = enc_full.fit_transform(y_test_modified).toarray().astype(int)\n",
    "y_full_test_enc.shape"
   ]
  },
  {
   "cell_type": "code",
   "execution_count": 37,
   "id": "1de16329-94f2-4688-a186-1b38a32977db",
   "metadata": {},
   "outputs": [],
   "source": [
    "y_is_known = np.where(y_test_mapped >= KEEP_CLASS_NUMBER, -1, 1)"
   ]
  },
  {
   "cell_type": "code",
   "execution_count": 38,
   "id": "b6a9884e-fa59-4811-b9ad-86f2d1794644",
   "metadata": {},
   "outputs": [],
   "source": [
    "iso_test_flow = test_generator.flow(X_test, y_full_test_enc, batch_size=128, shuffle=False, seed=SEED)"
   ]
  },
  {
   "cell_type": "markdown",
   "id": "38a81141-a758-46bf-82e7-60d9a6322819",
   "metadata": {},
   "source": [
    "# Extract features using different layers of the CNN classifier"
   ]
  },
  {
   "cell_type": "markdown",
   "id": "6e81d0d4-a2d7-4c88-b525-fab4c98eb3c7",
   "metadata": {},
   "source": [
    "## Logits"
   ]
  },
  {
   "cell_type": "code",
   "execution_count": 39,
   "id": "c10fe67b-6339-4284-8426-04b585151706",
   "metadata": {},
   "outputs": [
    {
     "name": "stdout",
     "output_type": "stream",
     "text": [
      "61/61 [==============================] - 1s 19ms/step\n",
      "79/79 [==============================] - 2s 20ms/step\n"
     ]
    }
   ],
   "source": [
    "train_features_logits = logits_model.predict(iso_train_flow, verbose=1)\n",
    "test_features_logits =  logits_model.predict(iso_test_flow, verbose=1)"
   ]
  },
  {
   "cell_type": "code",
   "execution_count": 40,
   "id": "d22d8bb9-a03b-4d44-8055-fc1ece37caaa",
   "metadata": {},
   "outputs": [
    {
     "data": {
      "text/plain": [
       "(7700, 7)"
      ]
     },
     "execution_count": 40,
     "metadata": {},
     "output_type": "execute_result"
    }
   ],
   "source": [
    "train_features_logits.shape"
   ]
  },
  {
   "cell_type": "code",
   "execution_count": null,
   "id": "99679d48-d2e1-4fa0-9aff-c5d87c9e7db6",
   "metadata": {},
   "outputs": [],
   "source": []
  },
  {
   "cell_type": "code",
   "execution_count": 41,
   "id": "c57eb6e5-51a1-4af2-800a-d64c0dc98e09",
   "metadata": {},
   "outputs": [],
   "source": [
    "anomaly_scores, predictions = fit_iso_forest(\n",
    "    n_estimators = 100, \n",
    "    contamination = 0.1, \n",
    "    train_features = train_features_logits, \n",
    "    test_features = test_features_logits\n",
    ")\n",
    "\n",
    "anomaly_scores2, predictions2 = fit_iso_forest(\n",
    "    n_estimators = 100, \n",
    "    contamination = 0.1, \n",
    "    train_features = train_features_logits, \n",
    "    test_features = test_features_logits,\n",
    "    random_state = 42\n",
    ")"
   ]
  },
  {
   "cell_type": "code",
   "execution_count": 42,
   "id": "3aaa8dff-99c9-45bc-97b3-20ecd1715d46",
   "metadata": {},
   "outputs": [
    {
     "name": "stdout",
     "output_type": "stream",
     "text": [
      "Confusion matrix saved to figures/anomaly_dist_id.png\n"
     ]
    },
    {
     "data": {
      "image/png": "[encoded data removed]",
      "text/plain": [
       "<Figure size 640x480 with 1 Axes>"
      ]
     },
     "metadata": {},
     "output_type": "display_data"
    },
    {
     "name": "stdout",
     "output_type": "stream",
     "text": [
      "Confusion matrix saved to figures/anomaly_dist_ood.png\n"
     ]
    },
    {
     "data": {
      "image/png": "[encoded data removed]",
      "text/plain": [
       "<Figure size 640x480 with 1 Axes>"
      ]
     },
     "metadata": {},
     "output_type": "display_data"
    },
    {
     "name": "stdout",
     "output_type": "stream",
     "text": [
      "\n",
      "ID statistics:\n",
      "  Count      : 7000\n",
      "  Mean       : 0.06845\n",
      "  Std Dev    : 0.05151\n",
      "  Min        : -0.16501\n",
      "  Max        : 0.14702\n",
      "  Median (Q2): 0.07803\n",
      "\n",
      "OOD statistics:\n",
      "  Count      : 3000\n",
      "  Mean       : 0.08206\n",
      "  Std Dev    : 0.03082\n",
      "  Min        : -0.03979\n",
      "  Max        : 0.14424\n",
      "  Median (Q2): 0.08562\n"
     ]
    },
    {
     "data": {
      "image/png": "[encoded data removed]",
      "text/plain": [
       "<Figure size 640x480 with 1 Axes>"
      ]
     },
     "metadata": {},
     "output_type": "display_data"
    },
    {
     "data": {
      "image/png": "[encoded data removed]",
      "text/plain": [
       "<Figure size 640x480 with 1 Axes>"
      ]
     },
     "metadata": {},
     "output_type": "display_data"
    },
    {
     "name": "stdout",
     "output_type": "stream",
     "text": [
      "\n",
      "ID statistics:\n",
      "  Count      : 7000\n",
      "  Mean       : 0.07034\n",
      "  Std Dev    : 0.05244\n",
      "  Min        : -0.17436\n",
      "  Max        : 0.14627\n",
      "  Median (Q2): 0.08153\n",
      "\n",
      "OOD statistics:\n",
      "  Count      : 3000\n",
      "  Mean       : 0.08421\n",
      "  Std Dev    : 0.03435\n",
      "  Min        : -0.06818\n",
      "  Max        : 0.14605\n",
      "  Median (Q2): 0.08963\n"
     ]
    }
   ],
   "source": [
    "def print_stats(name, scores):\n",
    "    print(f\"\\n{name} statistics:\")\n",
    "    print(f\"  Count      : {len(scores)}\")\n",
    "    print(f\"  Mean       : {np.mean(scores):.5f}\")\n",
    "    print(f\"  Std Dev    : {np.std(scores):.5f}\")\n",
    "    print(f\"  Min        : {np.min(scores):.5f}\")\n",
    "    print(f\"  Max        : {np.max(scores):.5f}\")\n",
    "    print(f\"  Median (Q2): {np.median(scores):.5f}\")\n",
    "\n",
    "\n",
    "def print_info(scores, y_is_known, save = False):\n",
    "    # Get ID and OOD masks\n",
    "    id_mask = y_is_known.squeeze() == 1\n",
    "    ood_mask = y_is_known.squeeze() == -1\n",
    "    \n",
    "    # Split the anomaly scores\n",
    "    id_scores = scores[id_mask]\n",
    "    ood_scores = scores[ood_mask]\n",
    "    \n",
    "    show_anomaly_score_plot(id_scores, \"figures/anomaly_dist_id.png\" if save else None )\n",
    "    show_anomaly_score_plot(ood_scores, \"figures/anomaly_dist_ood.png\" if save else None )\n",
    "    \n",
    "    print_stats(\"ID\", id_scores)\n",
    "    print_stats(\"OOD\", ood_scores)\n",
    "\n",
    "print_info(anomaly_scores, y_is_known, save = True)\n",
    "print_info(anomaly_scores2, y_is_known)"
   ]
  },
  {
   "cell_type": "code",
   "execution_count": 43,
   "id": "5838f34a-3476-41e9-957d-4aeb7ce14294",
   "metadata": {},
   "outputs": [],
   "source": [
    "from tqdm import tqdm\n",
    "def generate_anomaly_vectors(train_features, test_features, n_runs=30, contamination=0.1):\n",
    "    anomaly_vectors = []\n",
    "\n",
    "    for i in tqdm(range(n_runs), desc=\"Training Isolation Forests\"):\n",
    "        anomaly_scores, _ = fit_iso_forest(\n",
    "            n_estimators=100,\n",
    "            contamination=contamination,\n",
    "            train_features=train_features,\n",
    "            test_features=test_features,\n",
    "            random_state=i  # change seed each time\n",
    "        )\n",
    "        anomaly_vectors.append(anomaly_scores)\n",
    "\n",
    "    # Stack to shape (n_samples, n_runs)\n",
    "    anomaly_matrix = np.stack(anomaly_vectors, axis=1)\n",
    "    return anomaly_matrix"
   ]
  },
  {
   "cell_type": "code",
   "execution_count": 44,
   "id": "549fc879-8660-48ef-886a-30a3d2503f16",
   "metadata": {},
   "outputs": [
    {
     "name": "stderr",
     "output_type": "stream",
     "text": [
      "Training Isolation Forests: 100%|██████████████████████████████████████████████████| 1000/1000 [05:37<00:00,  2.97it/s]\n"
     ]
    }
   ],
   "source": [
    "anomaly_vectors = generate_anomaly_vectors(\n",
    "    train_features_logits,\n",
    "    test_features_logits,\n",
    "    n_runs=1000,\n",
    "    contamination=0.1\n",
    ")"
   ]
  },
  {
   "cell_type": "code",
   "execution_count": 45,
   "id": "4c229a37-524e-401e-9c44-999d76787ce0",
   "metadata": {},
   "outputs": [
    {
     "name": "stdout",
     "output_type": "stream",
     "text": [
      "(10000, 1000)\n"
     ]
    }
   ],
   "source": [
    "print(anomaly_vectors.shape)"
   ]
  },
  {
   "cell_type": "code",
   "execution_count": 46,
   "id": "e0c8d82f-3466-412e-a6d2-252d4547de9f",
   "metadata": {},
   "outputs": [
    {
     "data": {
      "image/png": "[encoded data removed]",
      "text/plain": [
       "<Figure size 640x480 with 1 Axes>"
      ]
     },
     "metadata": {},
     "output_type": "display_data"
    },
    {
     "data": {
      "image/png": "[encoded data removed]",
      "text/plain": [
       "<Figure size 640x480 with 1 Axes>"
      ]
     },
     "metadata": {},
     "output_type": "display_data"
    },
    {
     "name": "stdout",
     "output_type": "stream",
     "text": [
      "\n",
      "ID statistics:\n",
      "  Count      : 7000\n",
      "  Mean       : 0.00936\n",
      "  Std Dev    : 0.00246\n",
      "  Min        : 0.00467\n",
      "  Max        : 0.01674\n",
      "  Median (Q2): 0.00917\n",
      "\n",
      "OOD statistics:\n",
      "  Count      : 3000\n",
      "  Mean       : 0.00915\n",
      "  Std Dev    : 0.00173\n",
      "  Min        : 0.00488\n",
      "  Max        : 0.01547\n",
      "  Median (Q2): 0.00905\n"
     ]
    },
    {
     "data": {
      "image/png": "[encoded data removed]",
      "text/plain": [
       "<Figure size 640x480 with 1 Axes>"
      ]
     },
     "metadata": {},
     "output_type": "display_data"
    },
    {
     "data": {
      "image/png": "[encoded data removed]",
      "text/plain": [
       "<Figure size 640x480 with 1 Axes>"
      ]
     },
     "metadata": {},
     "output_type": "display_data"
    },
    {
     "name": "stdout",
     "output_type": "stream",
     "text": [
      "\n",
      "ID statistics:\n",
      "  Count      : 7000\n",
      "  Mean       : 0.07066\n",
      "  Std Dev    : 0.05190\n",
      "  Min        : -0.16832\n",
      "  Max        : 0.14723\n",
      "  Median (Q2): 0.08093\n",
      "\n",
      "OOD statistics:\n",
      "  Count      : 3000\n",
      "  Mean       : 0.08525\n",
      "  Std Dev    : 0.03127\n",
      "  Min        : -0.05614\n",
      "  Max        : 0.14638\n",
      "  Median (Q2): 0.08902\n"
     ]
    }
   ],
   "source": [
    "sample_stds = np.std(anomaly_vectors, axis=1)\n",
    "sample_means = np.mean(anomaly_vectors, axis=1)\n",
    "print_info(sample_stds, y_is_known)\n",
    "print_info(sample_means, y_is_known)"
   ]
  },
  {
   "cell_type": "code",
   "execution_count": 47,
   "id": "e2dd5dcc-8ebe-4ffe-9c57-dd8c7e7d27b4",
   "metadata": {},
   "outputs": [],
   "source": [
    "# Step 1: Compute per-sample std across components (axis=1)\n",
    "sample_means = np.mean(anomaly_vectors, axis=1)\n",
    "\n",
    "std_means = np.std(sample_means)\n",
    "mean_means = np.mean(sample_means)\n",
    "\n",
    "diff = np.abs(sample_means - mean_means)\n",
    "\n",
    "# Step 3: Assign -1 for normal (low std), 1 for abnormal (high std)\n",
    "std_based_labels = np.where(diff  <= 0.04, -1, 1)"
   ]
  },
  {
   "cell_type": "markdown",
   "id": "15d588fa-0371-4370-b94b-a26863ff8ab8",
   "metadata": {},
   "source": [
    "### Display results"
   ]
  },
  {
   "cell_type": "code",
   "execution_count": 51,
   "id": "55484fe7-9a24-4408-ae14-a30c6e71df73",
   "metadata": {},
   "outputs": [
    {
     "name": "stdout",
     "output_type": "stream",
     "text": [
      "Accuracy: 53.71%\n",
      "               precision    recall  f1-score   support\n",
      "\n",
      "Unknown (OOD)       0.37      0.76      0.49      3000\n",
      "        Known       0.81      0.44      0.57      7000\n",
      "\n",
      "     accuracy                           0.54     10000\n",
      "    macro avg       0.59      0.60      0.53     10000\n",
      " weighted avg       0.68      0.54      0.55     10000\n",
      "\n"
     ]
    },
    {
     "data": {
      "image/png": "[encoded data removed]",
      "text/plain": [
       "<Figure size 640x480 with 2 Axes>"
      ]
     },
     "metadata": {},
     "output_type": "display_data"
    }
   ],
   "source": [
    "print_evaluation_report(y_is_known, std_based_labels)"
   ]
  }
 ],
 "metadata": {
  "kernelspec": {
   "display_name": "Python 3 (ipykernel)",
   "language": "python",
   "name": "python3"
  },
  "language_info": {
   "codemirror_mode": {
    "name": "ipython",
    "version": 3
   },
   "file_extension": ".py",
   "mimetype": "text/x-python",
   "name": "python",
   "nbconvert_exporter": "python",
   "pygments_lexer": "ipython3",
   "version": "3.8.15"
  }
 },
 "nbformat": 4,
 "nbformat_minor": 5
}
