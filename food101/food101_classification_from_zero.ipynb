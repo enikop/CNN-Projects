{
 "cells": [
  {
   "cell_type": "markdown",
   "id": "f6333054-ec8c-48d6-984f-b8cd6a201c4d",
   "metadata": {},
   "source": [
    "# Classification on a subset of the Food 101 dataset"
   ]
  },
  {
   "cell_type": "code",
   "execution_count": 3,
   "id": "8d668bdf-ecbd-4ffe-a4d5-f975cefc2d5c",
   "metadata": {},
   "outputs": [],
   "source": [
    "import os\n",
    "from pathlib import Path\n",
    "IMAGE_DIR = Path('./archive/images')"
   ]
  },
  {
   "cell_type": "markdown",
   "id": "02d9c473-40e5-4705-9bbc-5a7e704d5a20",
   "metadata": {},
   "source": [
    "## Load dataset"
   ]
  },
  {
   "cell_type": "markdown",
   "id": "8d7442ae-61b0-4eb2-bb7d-e163faffcf66",
   "metadata": {},
   "source": [
    "Only load 3 chosen classes, we do not want to classify all 101 classes."
   ]
  },
  {
   "cell_type": "code",
   "execution_count": 4,
   "id": "38b83286-347c-4289-8dad-36b80021f7ae",
   "metadata": {},
   "outputs": [],
   "source": [
    "selected_classes = [\"macarons\", \"french_fries\", \"hot_dog\"]\n",
    "\n",
    "filepaths = []\n",
    "for category in selected_classes:\n",
    "    category_path = IMAGE_DIR / category\n",
    "    filepaths.extend(list(category_path.glob(\"*.jpg\")))\n",
    "labels = list(map(lambda x: os.path.split(os.path.split(x)[0])[1], filepaths))\n"
   ]
  },
  {
   "cell_type": "markdown",
   "id": "37a705f8-7299-44b9-bb1d-dcf09824c51f",
   "metadata": {},
   "source": [
    "### Convert to dataframe"
   ]
  },
  {
   "cell_type": "code",
   "execution_count": 5,
   "id": "3d35c93d-e62b-4706-a2f6-9b0c1e691d81",
   "metadata": {},
   "outputs": [
    {
     "name": "stdout",
     "output_type": "stream",
     "text": [
      "Size of dataset: 3000\n"
     ]
    },
    {
     "data": {
      "text/html": [
       "<div>\n",
       "<style scoped>\n",
       "    .dataframe tbody tr th:only-of-type {\n",
       "        vertical-align: middle;\n",
       "    }\n",
       "\n",
       "    .dataframe tbody tr th {\n",
       "        vertical-align: top;\n",
       "    }\n",
       "\n",
       "    .dataframe thead th {\n",
       "        text-align: right;\n",
       "    }\n",
       "</style>\n",
       "<table border=\"1\" class=\"dataframe\">\n",
       "  <thead>\n",
       "    <tr style=\"text-align: right;\">\n",
       "      <th></th>\n",
       "      <th>path</th>\n",
       "      <th>label</th>\n",
       "    </tr>\n",
       "  </thead>\n",
       "  <tbody>\n",
       "    <tr>\n",
       "      <th>0</th>\n",
       "      <td>archive\\images\\macarons\\1001193.jpg</td>\n",
       "      <td>macarons</td>\n",
       "    </tr>\n",
       "    <tr>\n",
       "      <th>1</th>\n",
       "      <td>archive\\images\\macarons\\1001527.jpg</td>\n",
       "      <td>macarons</td>\n",
       "    </tr>\n",
       "    <tr>\n",
       "      <th>2</th>\n",
       "      <td>archive\\images\\macarons\\1003207.jpg</td>\n",
       "      <td>macarons</td>\n",
       "    </tr>\n",
       "    <tr>\n",
       "      <th>3</th>\n",
       "      <td>archive\\images\\macarons\\1003224.jpg</td>\n",
       "      <td>macarons</td>\n",
       "    </tr>\n",
       "    <tr>\n",
       "      <th>4</th>\n",
       "      <td>archive\\images\\macarons\\1004903.jpg</td>\n",
       "      <td>macarons</td>\n",
       "    </tr>\n",
       "  </tbody>\n",
       "</table>\n",
       "</div>"
      ],
      "text/plain": [
       "                                  path     label\n",
       "0  archive\\images\\macarons\\1001193.jpg  macarons\n",
       "1  archive\\images\\macarons\\1001527.jpg  macarons\n",
       "2  archive\\images\\macarons\\1003207.jpg  macarons\n",
       "3  archive\\images\\macarons\\1003224.jpg  macarons\n",
       "4  archive\\images\\macarons\\1004903.jpg  macarons"
      ]
     },
     "execution_count": 5,
     "metadata": {},
     "output_type": "execute_result"
    }
   ],
   "source": [
    "import pandas as pd\n",
    "\n",
    "filepaths = pd.Series(filepaths, name='path').astype(str)\n",
    "labels = pd.Series(labels, name='label')\n",
    "images = pd.concat([filepaths, labels], axis=1)\n",
    "\n",
    "print(f\"Size of dataset: {labels.size}\")\n",
    "images.head()"
   ]
  },
  {
   "cell_type": "code",
   "execution_count": 6,
   "id": "cdd018da-d8e7-4ba4-8758-3bf21ad8121a",
   "metadata": {},
   "outputs": [
    {
     "data": {
      "text/plain": [
       "label\n",
       "macarons        1000\n",
       "french_fries    1000\n",
       "hot_dog         1000\n",
       "Name: count, dtype: int64"
      ]
     },
     "execution_count": 6,
     "metadata": {},
     "output_type": "execute_result"
    }
   ],
   "source": [
    "images['label'].value_counts()"
   ]
  },
  {
   "cell_type": "markdown",
   "id": "08c56f11-4ed7-4061-ada4-72979a505ab5",
   "metadata": {},
   "source": [
    "## Split to train and test sets"
   ]
  },
  {
   "cell_type": "code",
   "execution_count": 7,
   "id": "b9fa9a66-9e35-422d-9e64-455da0deea66",
   "metadata": {},
   "outputs": [
    {
     "data": {
      "text/plain": [
       "(4800, 1200)"
      ]
     },
     "execution_count": 7,
     "metadata": {},
     "output_type": "execute_result"
    }
   ],
   "source": [
    "from sklearn.model_selection import train_test_split\n",
    "train, test = train_test_split(images, train_size=0.8, shuffle=True, random_state=42)\n",
    "train.size, test.size"
   ]
  },
  {
   "cell_type": "markdown",
   "id": "d52d6a9b-5977-4e21-8724-231f536c2aab",
   "metadata": {},
   "source": [
    "## Preprocess images"
   ]
  },
  {
   "cell_type": "code",
   "execution_count": 8,
   "id": "09c7ca17-f8f0-46c6-9873-5fcf35f68b9e",
   "metadata": {},
   "outputs": [],
   "source": [
    "import tensorflow as tf\n",
    "train_generator = tf.keras.preprocessing.image.ImageDataGenerator(\n",
    "    preprocessing_function=tf.keras.applications.mobilenet_v2.preprocess_input,\n",
    "    validation_split=0.2\n",
    ")\n",
    "\n",
    "test_generator = tf.keras.preprocessing.image.ImageDataGenerator(\n",
    "    preprocessing_function=tf.keras.applications.mobilenet_v2.preprocess_input\n",
    ")"
   ]
  },
  {
   "cell_type": "code",
   "execution_count": 9,
   "id": "1a95a431-7f24-4785-a073-bc8cde261504",
   "metadata": {},
   "outputs": [
    {
     "name": "stdout",
     "output_type": "stream",
     "text": [
      "Found 1920 validated image filenames belonging to 3 classes.\n",
      "Found 480 validated image filenames belonging to 3 classes.\n",
      "Found 600 validated image filenames belonging to 3 classes.\n"
     ]
    }
   ],
   "source": [
    "train_images = train_generator.flow_from_dataframe(\n",
    "    dataframe=train,\n",
    "    x_col='path',\n",
    "    y_col='label',\n",
    "    target_size=(224, 224),\n",
    "    color_mode='rgb',\n",
    "    class_mode='categorical',\n",
    "    batch_size=32,\n",
    "    shuffle=True,\n",
    "    seed=42,\n",
    "    subset='training'\n",
    ")\n",
    "\n",
    "val_images = train_generator.flow_from_dataframe(\n",
    "    dataframe=train,\n",
    "    x_col='path',\n",
    "    y_col='label',\n",
    "    target_size=(224, 224),\n",
    "    color_mode='rgb',\n",
    "    class_mode='categorical',\n",
    "    batch_size=32,\n",
    "    shuffle=True,\n",
    "    seed=42,\n",
    "    subset='validation'\n",
    ")\n",
    "\n",
    "test_images = test_generator.flow_from_dataframe(\n",
    "    dataframe=test,\n",
    "    x_col='path',\n",
    "    y_col='label',\n",
    "    target_size=(224, 224),\n",
    "    color_mode='rgb',\n",
    "    class_mode='categorical',\n",
    "    batch_size=32,\n",
    "    shuffle=False\n",
    ")"
   ]
  },
  {
   "cell_type": "markdown",
   "id": "7f13043a-46b0-465e-bb43-959e2acd4f1d",
   "metadata": {},
   "source": [
    "## Create model"
   ]
  },
  {
   "cell_type": "code",
   "execution_count": 44,
   "id": "12a65534-82db-4226-9a4c-6564ee0fc0bc",
   "metadata": {},
   "outputs": [
    {
     "name": "stdout",
     "output_type": "stream",
     "text": [
      "Model: \"sequential_12\"\n",
      "_________________________________________________________________\n",
      "Layer (type)                 Output Shape              Param #   \n",
      "=================================================================\n",
      "conv2d_35 (Conv2D)           (None, 222, 222, 64)      1792      \n",
      "_________________________________________________________________\n",
      "average_pooling2d_10 (Averag (None, 111, 111, 64)      0         \n",
      "_________________________________________________________________\n",
      "conv2d_36 (Conv2D)           (None, 109, 109, 32)      18464     \n",
      "_________________________________________________________________\n",
      "average_pooling2d_11 (Averag (None, 54, 54, 32)        0         \n",
      "_________________________________________________________________\n",
      "conv2d_37 (Conv2D)           (None, 52, 52, 16)        4624      \n",
      "_________________________________________________________________\n",
      "average_pooling2d_12 (Averag (None, 26, 26, 16)        0         \n",
      "_________________________________________________________________\n",
      "conv2d_38 (Conv2D)           (None, 24, 24, 16)        2320      \n",
      "_________________________________________________________________\n",
      "average_pooling2d_13 (Averag (None, 12, 12, 16)        0         \n",
      "_________________________________________________________________\n",
      "flatten_8 (Flatten)          (None, 2304)              0         \n",
      "_________________________________________________________________\n",
      "dense_29 (Dense)             (None, 32)                73760     \n",
      "_________________________________________________________________\n",
      "dropout_1 (Dropout)          (None, 32)                0         \n",
      "_________________________________________________________________\n",
      "dense_30 (Dense)             (None, 16)                528       \n",
      "_________________________________________________________________\n",
      "dense_31 (Dense)             (None, 3)                 51        \n",
      "=================================================================\n",
      "Total params: 101,539\n",
      "Trainable params: 101,539\n",
      "Non-trainable params: 0\n",
      "_________________________________________________________________\n",
      "None\n"
     ]
    }
   ],
   "source": [
    "import tensorflow as tf\n",
    "model = tf.keras.models.Sequential()\n",
    "model.add(tf.keras.layers.Conv2D(64, (3, 3), activation='relu', input_shape=(224, 224, 3)))\n",
    "model.add(tf.keras.layers.AveragePooling2D((2, 2)))\n",
    "model.add(tf.keras.layers.Conv2D(32, (3, 3), activation='relu'))\n",
    "model.add(tf.keras.layers.AveragePooling2D((2, 2)))\n",
    "model.add(tf.keras.layers.Conv2D(16, (3, 3), activation='relu'))\n",
    "model.add(tf.keras.layers.AveragePooling2D((2, 2)))\n",
    "model.add(tf.keras.layers.Conv2D(16, (3, 3), activation='relu'))\n",
    "model.add(tf.keras.layers.AveragePooling2D((2, 2)))\n",
    "model.add(tf.keras.layers.Flatten())\n",
    "model.add(tf.keras.layers.Dense(32, activation='relu'))\n",
    "model.add(tf.keras.layers.Dropout(0.4))\n",
    "model.add(tf.keras.layers.Dense(16, activation='relu'))\n",
    "model.add(tf.keras.layers.Dense(len(selected_classes), activation='softmax'))\n",
    "\n",
    "\n",
    "print(model.summary())"
   ]
  },
  {
   "cell_type": "markdown",
   "id": "417aa4f5-8ef5-4923-b60a-70ef2caf842d",
   "metadata": {},
   "source": [
    "## Compile model"
   ]
  },
  {
   "cell_type": "code",
   "execution_count": 45,
   "id": "3f901148-f965-4db5-a874-8ddaffc0a465",
   "metadata": {},
   "outputs": [],
   "source": [
    "model.compile(\n",
    "    optimizer='adam',\n",
    "    loss='categorical_crossentropy',\n",
    "    metrics=['accuracy']\n",
    ")"
   ]
  },
  {
   "cell_type": "markdown",
   "id": "82846520-a3aa-4419-b5e9-9742cc013b36",
   "metadata": {},
   "source": [
    "## Fit model"
   ]
  },
  {
   "cell_type": "code",
   "execution_count": 46,
   "id": "d95f0d93-4a71-4df9-a7e7-1fcf586cc9bc",
   "metadata": {},
   "outputs": [
    {
     "name": "stdout",
     "output_type": "stream",
     "text": [
      "Epoch 1/25\n",
      "60/60 [==============================] - 42s 686ms/step - loss: 1.0597 - accuracy: 0.4286 - val_loss: 1.0230 - val_accuracy: 0.4542\n",
      "Epoch 2/25\n",
      "60/60 [==============================] - 43s 722ms/step - loss: 0.9908 - accuracy: 0.5109 - val_loss: 0.9211 - val_accuracy: 0.5854\n",
      "Epoch 3/25\n",
      "60/60 [==============================] - 42s 706ms/step - loss: 0.9336 - accuracy: 0.5583 - val_loss: 0.9055 - val_accuracy: 0.5437\n",
      "Epoch 4/25\n",
      "60/60 [==============================] - 42s 696ms/step - loss: 0.9145 - accuracy: 0.5620 - val_loss: 0.9103 - val_accuracy: 0.5875\n",
      "Epoch 5/25\n",
      "60/60 [==============================] - 43s 713ms/step - loss: 0.8866 - accuracy: 0.5859 - val_loss: 0.8884 - val_accuracy: 0.5813\n",
      "Epoch 6/25\n",
      "60/60 [==============================] - 42s 701ms/step - loss: 0.8937 - accuracy: 0.5760 - val_loss: 0.8857 - val_accuracy: 0.6146\n",
      "Epoch 7/25\n",
      "60/60 [==============================] - 42s 703ms/step - loss: 0.8413 - accuracy: 0.6073 - val_loss: 0.8833 - val_accuracy: 0.5979\n",
      "Epoch 8/25\n",
      "60/60 [==============================] - 42s 705ms/step - loss: 0.8284 - accuracy: 0.6250 - val_loss: 0.8509 - val_accuracy: 0.6229\n",
      "Epoch 9/25\n",
      "60/60 [==============================] - 42s 701ms/step - loss: 0.8128 - accuracy: 0.6359 - val_loss: 0.8419 - val_accuracy: 0.6417\n",
      "Epoch 10/25\n",
      "60/60 [==============================] - 40s 668ms/step - loss: 0.7933 - accuracy: 0.6464 - val_loss: 0.8646 - val_accuracy: 0.6000\n",
      "Epoch 11/25\n",
      "60/60 [==============================] - 40s 669ms/step - loss: 0.7929 - accuracy: 0.6354 - val_loss: 0.8476 - val_accuracy: 0.5938\n",
      "Epoch 12/25\n",
      "60/60 [==============================] - 40s 661ms/step - loss: 0.7279 - accuracy: 0.6651 - val_loss: 0.8245 - val_accuracy: 0.6354\n",
      "Epoch 13/25\n",
      "60/60 [==============================] - 40s 665ms/step - loss: 0.6945 - accuracy: 0.6911 - val_loss: 0.8320 - val_accuracy: 0.6229\n",
      "Epoch 14/25\n",
      "60/60 [==============================] - 42s 701ms/step - loss: 0.6738 - accuracy: 0.6932 - val_loss: 0.8526 - val_accuracy: 0.6292\n",
      "Epoch 15/25\n",
      "60/60 [==============================] - 45s 743ms/step - loss: 0.6587 - accuracy: 0.7031 - val_loss: 0.8229 - val_accuracy: 0.6292\n",
      "Epoch 16/25\n",
      "60/60 [==============================] - 68s 1s/step - loss: 0.6484 - accuracy: 0.7115 - val_loss: 0.8161 - val_accuracy: 0.6521\n",
      "Epoch 17/25\n",
      "60/60 [==============================] - 43s 718ms/step - loss: 0.6021 - accuracy: 0.7312 - val_loss: 0.8441 - val_accuracy: 0.6250\n",
      "Epoch 18/25\n",
      "60/60 [==============================] - 43s 715ms/step - loss: 0.5669 - accuracy: 0.7542 - val_loss: 0.8829 - val_accuracy: 0.6062\n",
      "Epoch 19/25\n",
      "60/60 [==============================] - 42s 700ms/step - loss: 0.5570 - accuracy: 0.7563 - val_loss: 0.8638 - val_accuracy: 0.6458\n",
      "Epoch 20/25\n",
      "60/60 [==============================] - 42s 700ms/step - loss: 0.5283 - accuracy: 0.7750 - val_loss: 0.9295 - val_accuracy: 0.6271\n",
      "Epoch 21/25\n",
      "60/60 [==============================] - 42s 697ms/step - loss: 0.5132 - accuracy: 0.7786 - val_loss: 0.8885 - val_accuracy: 0.6479\n"
     ]
    }
   ],
   "source": [
    "history = model.fit(\n",
    "    train_images,\n",
    "    validation_data=val_images,\n",
    "    epochs=25,\n",
    "    callbacks=[\n",
    "        tf.keras.callbacks.EarlyStopping(\n",
    "            monitor='val_loss',\n",
    "            patience=5,\n",
    "            restore_best_weights=True\n",
    "        )\n",
    "    ]\n",
    ")"
   ]
  },
  {
   "cell_type": "markdown",
   "id": "07c4c0bf-693d-4d50-9426-ceda94b40421",
   "metadata": {},
   "source": [
    "## Evaluate model"
   ]
  },
  {
   "cell_type": "code",
   "execution_count": 47,
   "id": "f437b9fe-7d13-4f09-9c82-ad4913edc774",
   "metadata": {},
   "outputs": [
    {
     "name": "stdout",
     "output_type": "stream",
     "text": [
      "19/19 [==============================] - 4s 214ms/step - loss: 0.8934 - accuracy: 0.6400\n",
      "Test loss: 0.89\n",
      "Test accuracy: 64.00%\n"
     ]
    }
   ],
   "source": [
    "loss, accuracy = model.evaluate(test_images, verbose=1)\n",
    "print(f\"Test loss: {loss:.2f}\")\n",
    "print(\"Test accuracy: {:.2f}%\".format(accuracy * 100))"
   ]
  },
  {
   "cell_type": "code",
   "execution_count": 48,
   "id": "38463454-c792-41f8-870e-acb4cfa92b45",
   "metadata": {},
   "outputs": [
    {
     "data": {
      "image/png": "[encoded data removed]",
      "text/plain": [
       "<Figure size 1000x1000 with 1 Axes>"
      ]
     },
     "metadata": {},
     "output_type": "display_data"
    }
   ],
   "source": [
    "import matplotlib.pyplot as plt\n",
    "import seaborn as sns\n",
    "from sklearn.metrics import confusion_matrix, classification_report\n",
    "import numpy as np\n",
    "\n",
    "predictions = np.argmax(model.predict(test_images), axis=1)\n",
    "\n",
    "cm = confusion_matrix(test_images.labels, predictions)\n",
    "clr = classification_report(test_images.labels, predictions, target_names=test_images.class_indices, zero_division=0)\n",
    "\n",
    "plt.figure(figsize=(10, 10))\n",
    "sns.heatmap(cm, annot=True, fmt='g', vmin=0, cmap='Greens', cbar=False)\n",
    "plt.xticks(ticks=np.arange(len(selected_classes)) + 0.5, labels=test_images.class_indices, rotation=90)\n",
    "plt.yticks(ticks=np.arange(len(selected_classes)) + 0.5, labels=test_images.class_indices, rotation=0)\n",
    "plt.xlabel(\"Predicted\")\n",
    "plt.ylabel(\"Actual\")\n",
    "plt.title(\"Confusion Matrix\")\n",
    "plt.show()"
   ]
  },
  {
   "cell_type": "code",
   "execution_count": 49,
   "id": "79b70d28-ce71-4adf-a875-163acaf5e031",
   "metadata": {},
   "outputs": [
    {
     "name": "stdout",
     "output_type": "stream",
     "text": [
      "Classification Report:\n",
      "----------------------\n",
      "               precision    recall  f1-score   support\n",
      "\n",
      "french_fries       0.71      0.56      0.63       197\n",
      "     hot_dog       0.49      0.63      0.55       186\n",
      "    macarons       0.77      0.71      0.74       217\n",
      "\n",
      "    accuracy                           0.64       600\n",
      "   macro avg       0.65      0.64      0.64       600\n",
      "weighted avg       0.66      0.64      0.64       600\n",
      "\n"
     ]
    }
   ],
   "source": [
    "print(\"Classification Report:\\n----------------------\\n\", clr)"
   ]
  },
  {
   "cell_type": "code",
   "execution_count": null,
   "id": "575b1dc5-7054-4300-b83f-4d58dd4b4b0a",
   "metadata": {},
   "outputs": [],
   "source": []
  }
 ],
 "metadata": {
  "kernelspec": {
   "display_name": "Python 3 (ipykernel)",
   "language": "python",
   "name": "python3"
  },
  "language_info": {
   "codemirror_mode": {
    "name": "ipython",
    "version": 3
   },
   "file_extension": ".py",
   "mimetype": "text/x-python",
   "name": "python",
   "nbconvert_exporter": "python",
   "pygments_lexer": "ipython3",
   "version": "3.8.15"
  }
 },
 "nbformat": 4,
 "nbformat_minor": 5
}
